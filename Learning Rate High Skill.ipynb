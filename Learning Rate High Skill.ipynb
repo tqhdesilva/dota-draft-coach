{
 "cells": [
  {
   "cell_type": "code",
   "execution_count": 17,
   "metadata": {},
   "outputs": [],
   "source": [
    "from __future__ import division, print_function\n",
    "import os\n",
    "import sys\n",
    "import numpy as np\n",
    "import pandas as pd\n",
    "import src.preprocessing as preprocessing\n",
    "from src.preprocessing import preprocess, preprocess_players, polynomial_features\n",
    "from sklearn.model_selection import train_test_split, GridSearchCV, learning_curve, cross_val_score\n",
    "from xgboost import XGBClassifier\n",
    "from sklearn.metrics import accuracy_score\n",
    "from sklearn.linear_model import LogisticRegression, RidgeClassifier, RidgeClassifierCV, Lasso\n",
    "from sklearn.ensemble import RandomForestClassifier, BaggingClassifier, VotingClassifier\n",
    "from sklearn.tree import DecisionTreeClassifier\n",
    "from sklearn.neighbors import KNeighborsClassifier\n",
    "from sklearn.utils import shuffle\n",
    "import warnings\n",
    "from sklearn.preprocessing import PolynomialFeatures\n",
    "from src.build_db import connect\n",
    "from src.db_helpers import parse_date\n",
    "import matplotlib.pyplot as plt\n",
    "import seaborn as sns\n",
    "from sklearn.naive_bayes import GaussianNB, BernoulliNB\n",
    "from sklearn.decomposition import PCA, NMF, TruncatedSVD\n",
    "from scipy.sparse import coo_matrix, csc_matrix, hstack\n",
    "from collections import defaultdict\n",
    "warnings.filterwarnings(\"ignore\")"
   ]
  },
  {
   "cell_type": "code",
   "execution_count": 2,
   "metadata": {
    "collapsed": true
   },
   "outputs": [],
   "source": [
    "# connect to db\n",
    "db_name = 'dota_db'\n",
    "with open(os.path.expanduser('~/.pgpass')) as f:\n",
    "    for line in f:\n",
    "        host, port, db, user, password = [x.strip() for x in line.split(':')]\n",
    "        if db == db_name:\n",
    "            dota_con, meta = connect(user=user, password=password, db=db, host=host, port=port)\n",
    "            break\n"
   ]
  },
  {
   "cell_type": "code",
   "execution_count": 4,
   "metadata": {
    "collapsed": true
   },
   "outputs": [],
   "source": [
    "query = '''\n",
    "SELECT DISTINCT ON(match_id) match_id, players, radiant_win FROM match_history WHERE duration >= 900;\n",
    "'''\n",
    "df = pd.read_sql(query, dota_con)\n",
    "df = preprocess_players(df)"
   ]
  },
  {
   "cell_type": "code",
   "execution_count": 7,
   "metadata": {},
   "outputs": [],
   "source": [
    "y = df['radiant_win'].values\n",
    "X = df.drop(['radiant_win', 'match_id'], axis=1).values\n",
    "X_train, X_test, y_train, y_test = train_test_split(X, y, test_size=5000)\n",
    "X_poly_train = polynomial_features(X_train)\n",
    "X_poly_test = polynomial_features(X_test)\n",
    "X_poly = polynomial_features(X)"
   ]
  },
  {
   "cell_type": "markdown",
   "metadata": {},
   "source": [
    "# Learning Rate"
   ]
  },
  {
   "cell_type": "code",
   "execution_count": 20,
   "metadata": {
    "collapsed": true
   },
   "outputs": [],
   "source": [
    "def my_cross_val(est, X, y, train_size=None):\n",
    "    scores = []\n",
    "    for i in xrange(5):\n",
    "        X_train, X_test, y_train, y_test = train_test_split(X, y, test_size=5000)\n",
    "        while True:\n",
    "            try:\n",
    "                if train_size:\n",
    "                    X_train, y_train = shuffle(X_train, y_train)\n",
    "                    X_train = X_train[:train_size, :]\n",
    "                    y_train = y_train[:train_size]\n",
    "                est.fit(X_train, y_train)\n",
    "            except:\n",
    "                continue\n",
    "            break\n",
    "        scores.append(est.score(X_test, y_test))\n",
    "    return scores\n",
    "        "
   ]
  },
  {
   "cell_type": "code",
   "execution_count": 27,
   "metadata": {
    "collapsed": true
   },
   "outputs": [],
   "source": [
    "def polynomial_logreg(train_size):\n",
    "    est = LogisticRegression(C=.1)\n",
    "    return np.mean(my_cross_val(est, X_poly, y, train_size))\n",
    "def polynomial_ridge(train_size):\n",
    "    est = RidgeClassifier(alpha=1000)\n",
    "    return np.mean(my_cross_val(est, X_poly, y, train_size))\n",
    "def logreg(train_size):\n",
    "    est = LogisticRegression(C=.1)\n",
    "    return np.mean(my_cross_val(est, X, y, train_size))\n",
    "def ridge(train_size):\n",
    "    est = RidgeClassifier(alpha=1000)\n",
    "    return np.mean(my_cross_val(est, X, y, train_size))\n",
    "def rf(train_size):\n",
    "    est = RandomForestClassifier(n_estimators=500)\n",
    "    return np.mean(my_cross_val(est, X, y, train_size))\n",
    "def xgb(train_size):\n",
    "    est = XGBClassifier(n_estimators=1000)\n",
    "    return np.mean(my_cross_val(est, X, y, train_size))"
   ]
  },
  {
   "cell_type": "code",
   "execution_count": 69,
   "metadata": {},
   "outputs": [],
   "source": [
    "training_sizes = []\n",
    "test_scores = defaultdict(list)\n",
    "training_size = 4\n",
    "models = {'pf_logreg': polynomial_logreg, 'pf_ridge': polynomial_ridge,\n",
    "          'random_forest': rf, 'logreg': logreg, 'ridge': ridge, 'xgb': xgb}\n",
    "while training_size <= X_train.shape[0]:\n",
    "    training_sizes.append(training_size)\n",
    "    for model_name, model in models.iteritems():\n",
    "        score = model(training_size)\n",
    "        test_scores[model_name].append(score)\n",
    "    training_size = 2 * training_size"
   ]
  },
  {
   "cell_type": "code",
   "execution_count": 70,
   "metadata": {},
   "outputs": [],
   "source": [
    "training_sizes.append(X_train.shape[0])\n",
    "for model_name, model in models.iteritems():\n",
    "    score = model(None)\n",
    "    test_scores[model_name].append(score)"
   ]
  },
  {
   "cell_type": "code",
   "execution_count": 71,
   "metadata": {},
   "outputs": [
    {
     "data": {
      "image/png": "[encoded data removed]",
      "text/plain": [
       "<matplotlib.figure.Figure at 0x7fbae6cd1750>"
      ]
     },
     "metadata": {},
     "output_type": "display_data"
    }
   ],
   "source": [
    "fig, ax = plt.subplots()\n",
    "for model_name, scores in test_scores.iteritems():\n",
    "    ax.plot(training_sizes, scores, label=model_name)\n",
    "ax.legend()\n",
    "plt.show()"
   ]
  },
  {
   "cell_type": "code",
   "execution_count": null,
   "metadata": {
    "collapsed": true
   },
   "outputs": [],
   "source": []
  }
 ],
 "metadata": {
  "kernelspec": {
   "display_name": "Python 2",
   "language": "python",
   "name": "python2"
  },
  "language_info": {
   "codemirror_mode": {
    "name": "ipython",
    "version": 2
   },
   "file_extension": ".py",
   "mimetype": "text/x-python",
   "name": "python",
   "nbconvert_exporter": "python",
   "pygments_lexer": "ipython2",
   "version": "2.7.13"
  }
 },
 "nbformat": 4,
 "nbformat_minor": 2
}
