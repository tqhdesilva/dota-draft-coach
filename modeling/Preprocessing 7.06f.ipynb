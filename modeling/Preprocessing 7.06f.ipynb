{
 "cells": [
  {
   "cell_type": "code",
   "execution_count": 5,
   "metadata": {
    "collapsed": true
   },
   "outputs": [],
   "source": [
    "from __future__ import division, print_function\n",
    "import os\n",
    "import preprocessing\n",
    "import sys\n",
    "import numpy as np\n",
    "import pandas as pd"
   ]
  },
  {
   "cell_type": "code",
   "execution_count": 2,
   "metadata": {
    "collapsed": true
   },
   "outputs": [],
   "source": [
    "sys.path.append(os.path.join( '..', 'data'))\n",
    "from build_db import connect"
   ]
  },
  {
   "cell_type": "code",
   "execution_count": 3,
   "metadata": {
    "collapsed": true
   },
   "outputs": [],
   "source": [
    "# connect to db\n",
    "db_name = 'dota_db'\n",
    "with open(os.path.expanduser('~/.pgpass')) as f:\n",
    "    for line in f:\n",
    "        host, port, db, user, password = [x.strip() for x in line.split(':')]\n",
    "        if db == db_name:\n",
    "            con, meta = connect(user=user, password=password, db=db, host=host, port=port)\n",
    "            break"
   ]
  },
  {
   "cell_type": "code",
   "execution_count": 7,
   "metadata": {
    "scrolled": true
   },
   "outputs": [
    {
     "data": {
      "text/plain": [
       "32565"
      ]
     },
     "execution_count": 7,
     "metadata": {},
     "output_type": "execute_result"
    }
   ],
   "source": [
    "pd.read_sql('SELECT COUNT(*) FROM matches', con).loc[0, 'count']"
   ]
  },
  {
   "cell_type": "markdown",
   "metadata": {},
   "source": [
    "# Data Background\n",
    "Our data is made up of matches starting from 08/20/2017 to 09/26/2017, i.e. patch 7.06f. At the time of writing we have 32565 matches and counting."
   ]
  },
  {
   "cell_type": "code",
   "execution_count": 8,
   "metadata": {
    "collapsed": true
   },
   "outputs": [],
   "source": [
    "# loading toy data set\n",
    "df_toy = pd.read_sql('SELECT * FROM matches ORDER BY RANDOM() LIMIT 1000;', con)"
   ]
  },
  {
   "cell_type": "code",
   "execution_count": 9,
   "metadata": {},
   "outputs": [
    {
     "data": {
      "text/plain": [
       "Index([u'match_id', u'duration', u'game_mode', u'match_seq_num', u'picks_bans',\n",
       "       u'players', u'radiant_win', u'start_time'],\n",
       "      dtype='object')"
      ]
     },
     "execution_count": 9,
     "metadata": {},
     "output_type": "execute_result"
    }
   ],
   "source": [
    "df_toy.columns"
   ]
  },
  {
   "cell_type": "code",
   "execution_count": 11,
   "metadata": {},
   "outputs": [
    {
     "data": {
      "text/plain": [
       "2    1000\n",
       "Name: game_mode, dtype: int64"
      ]
     },
     "execution_count": 11,
     "metadata": {},
     "output_type": "execute_result"
    }
   ],
   "source": [
    "# confirm that all games are cm games\n",
    "df_toy['game_mode'].value_counts()"
   ]
  },
  {
   "cell_type": "code",
   "execution_count": 13,
   "metadata": {},
   "outputs": [
    {
     "data": {
      "text/plain": [
       "(1000,)"
      ]
     },
     "execution_count": 13,
     "metadata": {},
     "output_type": "execute_result"
    }
   ],
   "source": [
    "# confirm that matches are unique\n",
    "np.unique(df_toy['match_id'].values).shape"
   ]
  },
  {
   "cell_type": "code",
   "execution_count": 22,
   "metadata": {},
   "outputs": [
    {
     "data": {
      "text/plain": [
       "array([10, 15, 17, 18, 19, 20])"
      ]
     },
     "execution_count": 22,
     "metadata": {},
     "output_type": "execute_result"
    }
   ],
   "source": [
    "# confirm that picks_bans always have 20 entries\n",
    "np.unique(df_toy['picks_bans'].map(lambda x: len(x)).values)"
   ]
  },
  {
   "cell_type": "code",
   "execution_count": 27,
   "metadata": {},
   "outputs": [
    {
     "data": {
      "text/plain": [
       "[{u'hero_id': 57, u'is_pick': False, u'order': 0, u'team': 0},\n",
       " {u'hero_id': 81, u'is_pick': False, u'order': 1, u'team': 0},\n",
       " {u'hero_id': 39, u'is_pick': True, u'order': 2, u'team': 1},\n",
       " {u'hero_id': 75, u'is_pick': True, u'order': 3, u'team': 0},\n",
       " {u'hero_id': 4, u'is_pick': True, u'order': 4, u'team': 0},\n",
       " {u'hero_id': 61, u'is_pick': True, u'order': 5, u'team': 1},\n",
       " {u'hero_id': 34, u'is_pick': False, u'order': 6, u'team': 0},\n",
       " {u'hero_id': 93, u'is_pick': False, u'order': 7, u'team': 0},\n",
       " {u'hero_id': 33, u'is_pick': True, u'order': 8, u'team': 0},\n",
       " {u'hero_id': 53, u'is_pick': True, u'order': 9, u'team': 1},\n",
       " {u'hero_id': 74, u'is_pick': True, u'order': 10, u'team': 0},\n",
       " {u'hero_id': 114, u'is_pick': True, u'order': 11, u'team': 1},\n",
       " {u'hero_id': 1, u'is_pick': False, u'order': 12, u'team': 0},\n",
       " {u'hero_id': 17, u'is_pick': True, u'order': 13, u'team': 1},\n",
       " {u'hero_id': 102, u'is_pick': True, u'order': 14, u'team': 0}]"
      ]
     },
     "execution_count": 27,
     "metadata": {},
     "output_type": "execute_result"
    }
   ],
   "source": [
    "# examining partial pick_bans\n",
    "example = df_toy['picks_bans'][df_toy['picks_bans'].map(lambda x: len(x)) == 15].iloc[0]\n",
    "example"
   ]
  },
  {
   "cell_type": "markdown",
   "metadata": {},
   "source": [
    "Some games have fewer bans for some reason, but all have 10 picks. When we build our model, we can keep 10 bans if we allow some to be None. Some games also have dire pick first."
   ]
  },
  {
   "cell_type": "code",
   "execution_count": 24,
   "metadata": {},
   "outputs": [
    {
     "data": {
      "text/plain": [
       "(980,)"
      ]
     },
     "execution_count": 24,
     "metadata": {},
     "output_type": "execute_result"
    }
   ],
   "source": [
    "# How many games  have full pick_ban?\n",
    "df_toy['picks_bans'][df_toy['picks_bans'].map(lambda x: len(x)) == 20].shape"
   ]
  },
  {
   "cell_type": "code",
   "execution_count": 31,
   "metadata": {},
   "outputs": [
    {
     "data": {
      "text/html": [
       "<div>\n",
       "<style>\n",
       "    .dataframe thead tr:only-child th {\n",
       "        text-align: right;\n",
       "    }\n",
       "\n",
       "    .dataframe thead th {\n",
       "        text-align: left;\n",
       "    }\n",
       "\n",
       "    .dataframe tbody tr th {\n",
       "        vertical-align: top;\n",
       "    }\n",
       "</style>\n",
       "<table border=\"1\" class=\"dataframe\">\n",
       "  <thead>\n",
       "    <tr style=\"text-align: right;\">\n",
       "      <th></th>\n",
       "      <th>picks_bans</th>\n",
       "      <th>radiant_win</th>\n",
       "    </tr>\n",
       "    <tr>\n",
       "      <th>match_id</th>\n",
       "      <th></th>\n",
       "      <th></th>\n",
       "    </tr>\n",
       "  </thead>\n",
       "  <tbody>\n",
       "    <tr>\n",
       "      <th>3443069468</th>\n",
       "      <td>[{u'is_pick': False, u'hero_id': 87, u'order':...</td>\n",
       "      <td>True</td>\n",
       "    </tr>\n",
       "    <tr>\n",
       "      <th>3389751992</th>\n",
       "      <td>[{u'is_pick': False, u'hero_id': 75, u'order':...</td>\n",
       "      <td>False</td>\n",
       "    </tr>\n",
       "    <tr>\n",
       "      <th>3391239235</th>\n",
       "      <td>[{u'is_pick': False, u'hero_id': 37, u'order':...</td>\n",
       "      <td>True</td>\n",
       "    </tr>\n",
       "    <tr>\n",
       "      <th>3441934391</th>\n",
       "      <td>[{u'is_pick': False, u'hero_id': 75, u'order':...</td>\n",
       "      <td>True</td>\n",
       "    </tr>\n",
       "    <tr>\n",
       "      <th>3390656894</th>\n",
       "      <td>[{u'is_pick': False, u'hero_id': 50, u'order':...</td>\n",
       "      <td>False</td>\n",
       "    </tr>\n",
       "  </tbody>\n",
       "</table>\n",
       "</div>"
      ],
      "text/plain": [
       "                                                   picks_bans  radiant_win\n",
       "match_id                                                                  \n",
       "3443069468  [{u'is_pick': False, u'hero_id': 87, u'order':...         True\n",
       "3389751992  [{u'is_pick': False, u'hero_id': 75, u'order':...        False\n",
       "3391239235  [{u'is_pick': False, u'hero_id': 37, u'order':...         True\n",
       "3441934391  [{u'is_pick': False, u'hero_id': 75, u'order':...         True\n",
       "3390656894  [{u'is_pick': False, u'hero_id': 50, u'order':...        False"
      ]
     },
     "execution_count": 31,
     "metadata": {},
     "output_type": "execute_result"
    }
   ],
   "source": [
    "df_toy_pb = df_toy[['match_id', 'picks_bans', 'radiant_win']].set_index('match_id')\n",
    "df_toy_pb.head()"
   ]
  },
  {
   "cell_type": "markdown",
   "metadata": {},
   "source": [
    "<table cellpadding=\"4\">\n",
    "<caption><b>Captains Mode picking order</b><br>(<i>This example assumes <a href=\"/File:Radiant_icon.png\" class=\"image\"><img alt=\"Radiant icon.png\" src=\"https://dota2.gamepedia.com/media/dota2.gamepedia.com/thumb/2/2a/Radiant_icon.png/16px-Radiant_icon.png?version=ef34c7f53dc1972609aef0114763ede1\" width=\"16\" height=\"16\" srcset=\"https://dota2.gamepedia.com/media/dota2.gamepedia.com/thumb/2/2a/Radiant_icon.png/24px-Radiant_icon.png?version=ef34c7f53dc1972609aef0114763ede1 1.5x, https://dota2.gamepedia.com/media/dota2.gamepedia.com/thumb/2/2a/Radiant_icon.png/32px-Radiant_icon.png?version=ef34c7f53dc1972609aef0114763ede1 2x\"></a> <span style=\"color:#42A51C\">Radiant</span> is the starting team. Invert teams if <a href=\"/File:Dire_icon.png\" class=\"image\"><img alt=\"Dire icon.png\" src=\"https://dota2.gamepedia.com/media/dota2.gamepedia.com/thumb/0/0e/Dire_icon.png/16px-Dire_icon.png?version=c5abc3405cda4390e2338d8eb787e38d\" width=\"16\" height=\"16\" srcset=\"https://dota2.gamepedia.com/media/dota2.gamepedia.com/thumb/0/0e/Dire_icon.png/24px-Dire_icon.png?version=c5abc3405cda4390e2338d8eb787e38d 1.5x, https://dota2.gamepedia.com/media/dota2.gamepedia.com/thumb/0/0e/Dire_icon.png/32px-Dire_icon.png?version=c5abc3405cda4390e2338d8eb787e38d 2x\"></a> <span style=\"color:#DE3909\">Dire</span> is the starting team.</i>)\n",
    "</caption>\n",
    "<tbody><tr>\n",
    "<td style=\"color:#EEE; background:#42A51C\"><b>Ban</b>\n",
    "</td>\n",
    "<td style=\"color:#EEE; background:#DE3909\"><b>Ban</b>\n",
    "</td>\n",
    "<td style=\"color:#EEE; background:#42A51C\"><b>Ban</b>\n",
    "</td>\n",
    "<td style=\"color:#EEE; background:#DE3909\"><b>Ban</b>\n",
    "</td>\n",
    "<td>\n",
    "</td>\n",
    "<td style=\"color:#EEE; background:#42A51C\"><b>Pick</b>\n",
    "</td>\n",
    "<td style=\"color:#EEE; background:#DE3909\"><b>Pick</b>\n",
    "</td>\n",
    "<td style=\"color:#EEE; background:#DE3909\"><b>Pick</b>\n",
    "</td>\n",
    "<td style=\"color:#EEE; background:#42A51C\"><b>Pick</b>\n",
    "</td>\n",
    "<td>\n",
    "</td>\n",
    "<td style=\"color:#EEE; background:#DE3909\"><b>Ban</b>\n",
    "</td>\n",
    "<td style=\"color:#EEE; background:#42A51C\"><b>Ban</b>\n",
    "</td>\n",
    "<td style=\"color:#EEE; background:#DE3909\"><b>Ban</b>\n",
    "</td>\n",
    "<td style=\"color:#EEE; background:#42A51C\"><b>Ban</b>\n",
    "</td>\n",
    "<td>\n",
    "</td>\n",
    "<td style=\"color:#EEE; background:#DE3909\"><b>Pick</b>\n",
    "</td>\n",
    "<td style=\"color:#EEE; background:#42A51C\"><b>Pick</b>\n",
    "</td>\n",
    "<td style=\"color:#EEE; background:#DE3909\"><b>Pick</b>\n",
    "</td>\n",
    "<td style=\"color:#EEE; background:#42A51C\"><b>Pick</b>\n",
    "</td>\n",
    "<td>\n",
    "</td>\n",
    "<td style=\"color:#EEE; background:#DE3909\"><b>Ban</b>\n",
    "</td>\n",
    "<td style=\"color:#EEE; background:#42A51C\"><b>Ban</b>\n",
    "</td>\n",
    "<td>\n",
    "</td>\n",
    "<td style=\"color:#EEE; background:#42A51C\"><b>Pick</b>\n",
    "</td>\n",
    "<td style=\"color:#EEE; background:#DE3909\"><b>Pick</b>\n",
    "</td></tr></tbody></table>"
   ]
  },
  {
   "cell_type": "markdown",
   "metadata": {},
   "source": [
    "# Preprocessing"
   ]
  },
  {
   "cell_type": "code",
   "execution_count": 94,
   "metadata": {},
   "outputs": [],
   "source": [
    "example = df_toy['picks_bans'][df_toy['picks_bans'].map(lambda x: len(x)) == 19].iloc[0]\n",
    "parsed = preprocessing.parse_pb(example)"
   ]
  },
  {
   "cell_type": "code",
   "execution_count": 95,
   "metadata": {},
   "outputs": [
    {
     "data": {
      "text/plain": [
       "{'t1_bans': (4, 2, 35, 99, 47),\n",
       " 't1_picks': (75, 37, 39, 12, 21),\n",
       " 't2_bans': (93, 50, 97, 71, None),\n",
       " 't2_picks': (87, 27, 55, 56, 43),\n",
       " 'team1': 0,\n",
       " 'team2': 1}"
      ]
     },
     "execution_count": 95,
     "metadata": {},
     "output_type": "execute_result"
    }
   ],
   "source": [
    "parsed"
   ]
  },
  {
   "cell_type": "code",
   "execution_count": 96,
   "metadata": {},
   "outputs": [
    {
     "data": {
      "text/plain": [
       "[{u'hero_id': 4, u'is_pick': False, u'order': 0, u'team': 0},\n",
       " {u'hero_id': 93, u'is_pick': False, u'order': 1, u'team': 1},\n",
       " {u'hero_id': 2, u'is_pick': False, u'order': 2, u'team': 0},\n",
       " {u'hero_id': 50, u'is_pick': False, u'order': 3, u'team': 1},\n",
       " {u'hero_id': 75, u'is_pick': True, u'order': 4, u'team': 0},\n",
       " {u'hero_id': 87, u'is_pick': True, u'order': 5, u'team': 1},\n",
       " {u'hero_id': 27, u'is_pick': True, u'order': 6, u'team': 1},\n",
       " {u'hero_id': 37, u'is_pick': True, u'order': 7, u'team': 0},\n",
       " {u'hero_id': 97, u'is_pick': False, u'order': 8, u'team': 1},\n",
       " {u'hero_id': 35, u'is_pick': False, u'order': 9, u'team': 0},\n",
       " {u'hero_id': 71, u'is_pick': False, u'order': 10, u'team': 1},\n",
       " {u'hero_id': 99, u'is_pick': False, u'order': 11, u'team': 0},\n",
       " {u'hero_id': 55, u'is_pick': True, u'order': 12, u'team': 1},\n",
       " {u'hero_id': 39, u'is_pick': True, u'order': 13, u'team': 0},\n",
       " {u'hero_id': 56, u'is_pick': True, u'order': 14, u'team': 1},\n",
       " {u'hero_id': 12, u'is_pick': True, u'order': 15, u'team': 0},\n",
       " {u'hero_id': 47, u'is_pick': False, u'order': 16, u'team': 0},\n",
       " {u'hero_id': 21, u'is_pick': True, u'order': 17, u'team': 0},\n",
       " {u'hero_id': 43, u'is_pick': True, u'order': 18, u'team': 1}]"
      ]
     },
     "execution_count": 96,
     "metadata": {},
     "output_type": "execute_result"
    }
   ],
   "source": [
    "example"
   ]
  },
  {
   "cell_type": "code",
   "execution_count": 98,
   "metadata": {},
   "outputs": [
    {
     "name": "stdout",
     "output_type": "stream",
     "text": [
      "1 loop, best of 3: 3.62 s per loop\n"
     ]
    }
   ],
   "source": [
    "%timeit df_toy['picks_bans'].map(preprocessing.parse_pb)"
   ]
  },
  {
   "cell_type": "code",
   "execution_count": 99,
   "metadata": {
    "collapsed": true
   },
   "outputs": [],
   "source": [
    "pb_series = df_toy['picks_bans'].map(preprocessing.parse_pb)"
   ]
  },
  {
   "cell_type": "code",
   "execution_count": 106,
   "metadata": {
    "scrolled": true
   },
   "outputs": [],
   "source": [
    "t1_picks = pb_series.map(lambda x: x['t1_picks'])\n",
    "t2_picks = pb_series.map(lambda x: x['t2_picks'])\n",
    "team1 = pb_series.map(lambda x: x['team1'])"
   ]
  },
  {
   "cell_type": "code",
   "execution_count": 107,
   "metadata": {
    "collapsed": true
   },
   "outputs": [],
   "source": [
    "picks_df = pd.DataFrame(data={'t1_picks': t1_picks, 't2_picks':t2_picks, 'team1': team1})"
   ]
  },
  {
   "cell_type": "code",
   "execution_count": 128,
   "metadata": {},
   "outputs": [],
   "source": [
    "concat_df = pd.concat([df_toy, picks_df], axis=1)"
   ]
  },
  {
   "cell_type": "code",
   "execution_count": 129,
   "metadata": {},
   "outputs": [],
   "source": [
    "# https://stackoverflow.com/questions/29034928/pandas-convert-a-column-of-list-to-dummies\n",
    "t1_dummies = pd.get_dummies(picks_df['t1_picks'].apply(pd.Series).stack(), prefix='t1', prefix_sep='_').sum(level=0)\n",
    "t2_dummies = pd.get_dummies(picks_df['t2_picks'].apply(pd.Series).stack(), prefix='t2', prefix_sep='_').sum(level=0)"
   ]
  },
  {
   "cell_type": "code",
   "execution_count": 130,
   "metadata": {
    "collapsed": true
   },
   "outputs": [],
   "source": [
    "concat_df['team1_win'] = (concat_df['radiant_win']) ^ (concat_df['team1'] == 1)"
   ]
  },
  {
   "cell_type": "code",
   "execution_count": 132,
   "metadata": {},
   "outputs": [],
   "source": [
    "full_df = pd.concat([concat_df[['match_id', 'team1_win']], t1_dummies, t2_dummies], axis=1)"
   ]
  },
  {
   "cell_type": "code",
   "execution_count": 133,
   "metadata": {},
   "outputs": [
    {
     "data": {
      "text/html": [
       "<div>\n",
       "<style>\n",
       "    .dataframe thead tr:only-child th {\n",
       "        text-align: right;\n",
       "    }\n",
       "\n",
       "    .dataframe thead th {\n",
       "        text-align: left;\n",
       "    }\n",
       "\n",
       "    .dataframe tbody tr th {\n",
       "        vertical-align: top;\n",
       "    }\n",
       "</style>\n",
       "<table border=\"1\" class=\"dataframe\">\n",
       "  <thead>\n",
       "    <tr style=\"text-align: right;\">\n",
       "      <th></th>\n",
       "      <th>match_id</th>\n",
       "      <th>team1_win</th>\n",
       "      <th>t1_1</th>\n",
       "      <th>t1_2</th>\n",
       "      <th>t1_3</th>\n",
       "      <th>t1_4</th>\n",
       "      <th>t1_5</th>\n",
       "      <th>t1_6</th>\n",
       "      <th>t1_7</th>\n",
       "      <th>t1_8</th>\n",
       "      <th>...</th>\n",
       "      <th>t2_104</th>\n",
       "      <th>t2_106</th>\n",
       "      <th>t2_107</th>\n",
       "      <th>t2_108</th>\n",
       "      <th>t2_109</th>\n",
       "      <th>t2_110</th>\n",
       "      <th>t2_111</th>\n",
       "      <th>t2_112</th>\n",
       "      <th>t2_113</th>\n",
       "      <th>t2_114</th>\n",
       "    </tr>\n",
       "  </thead>\n",
       "  <tbody>\n",
       "    <tr>\n",
       "      <th>0</th>\n",
       "      <td>3443069468</td>\n",
       "      <td>False</td>\n",
       "      <td>0</td>\n",
       "      <td>0</td>\n",
       "      <td>0</td>\n",
       "      <td>0</td>\n",
       "      <td>1</td>\n",
       "      <td>0</td>\n",
       "      <td>0</td>\n",
       "      <td>0</td>\n",
       "      <td>...</td>\n",
       "      <td>0</td>\n",
       "      <td>0</td>\n",
       "      <td>0</td>\n",
       "      <td>0</td>\n",
       "      <td>0</td>\n",
       "      <td>0</td>\n",
       "      <td>0</td>\n",
       "      <td>0</td>\n",
       "      <td>0</td>\n",
       "      <td>0</td>\n",
       "    </tr>\n",
       "    <tr>\n",
       "      <th>1</th>\n",
       "      <td>3389751992</td>\n",
       "      <td>False</td>\n",
       "      <td>0</td>\n",
       "      <td>0</td>\n",
       "      <td>0</td>\n",
       "      <td>0</td>\n",
       "      <td>0</td>\n",
       "      <td>0</td>\n",
       "      <td>0</td>\n",
       "      <td>0</td>\n",
       "      <td>...</td>\n",
       "      <td>0</td>\n",
       "      <td>0</td>\n",
       "      <td>0</td>\n",
       "      <td>0</td>\n",
       "      <td>0</td>\n",
       "      <td>0</td>\n",
       "      <td>0</td>\n",
       "      <td>0</td>\n",
       "      <td>0</td>\n",
       "      <td>0</td>\n",
       "    </tr>\n",
       "    <tr>\n",
       "      <th>2</th>\n",
       "      <td>3391239235</td>\n",
       "      <td>True</td>\n",
       "      <td>0</td>\n",
       "      <td>0</td>\n",
       "      <td>0</td>\n",
       "      <td>0</td>\n",
       "      <td>0</td>\n",
       "      <td>0</td>\n",
       "      <td>0</td>\n",
       "      <td>0</td>\n",
       "      <td>...</td>\n",
       "      <td>0</td>\n",
       "      <td>0</td>\n",
       "      <td>0</td>\n",
       "      <td>0</td>\n",
       "      <td>0</td>\n",
       "      <td>0</td>\n",
       "      <td>0</td>\n",
       "      <td>0</td>\n",
       "      <td>0</td>\n",
       "      <td>0</td>\n",
       "    </tr>\n",
       "    <tr>\n",
       "      <th>3</th>\n",
       "      <td>3441934391</td>\n",
       "      <td>True</td>\n",
       "      <td>0</td>\n",
       "      <td>0</td>\n",
       "      <td>0</td>\n",
       "      <td>0</td>\n",
       "      <td>0</td>\n",
       "      <td>0</td>\n",
       "      <td>0</td>\n",
       "      <td>0</td>\n",
       "      <td>...</td>\n",
       "      <td>0</td>\n",
       "      <td>0</td>\n",
       "      <td>0</td>\n",
       "      <td>0</td>\n",
       "      <td>0</td>\n",
       "      <td>0</td>\n",
       "      <td>0</td>\n",
       "      <td>0</td>\n",
       "      <td>0</td>\n",
       "      <td>0</td>\n",
       "    </tr>\n",
       "    <tr>\n",
       "      <th>4</th>\n",
       "      <td>3390656894</td>\n",
       "      <td>False</td>\n",
       "      <td>1</td>\n",
       "      <td>0</td>\n",
       "      <td>0</td>\n",
       "      <td>1</td>\n",
       "      <td>0</td>\n",
       "      <td>0</td>\n",
       "      <td>0</td>\n",
       "      <td>0</td>\n",
       "      <td>...</td>\n",
       "      <td>1</td>\n",
       "      <td>0</td>\n",
       "      <td>0</td>\n",
       "      <td>0</td>\n",
       "      <td>0</td>\n",
       "      <td>0</td>\n",
       "      <td>0</td>\n",
       "      <td>0</td>\n",
       "      <td>0</td>\n",
       "      <td>0</td>\n",
       "    </tr>\n",
       "  </tbody>\n",
       "</table>\n",
       "<p>5 rows × 226 columns</p>\n",
       "</div>"
      ],
      "text/plain": [
       "     match_id  team1_win  t1_1  t1_2  t1_3  t1_4  t1_5  t1_6  t1_7  t1_8  \\\n",
       "0  3443069468      False     0     0     0     0     1     0     0     0   \n",
       "1  3389751992      False     0     0     0     0     0     0     0     0   \n",
       "2  3391239235       True     0     0     0     0     0     0     0     0   \n",
       "3  3441934391       True     0     0     0     0     0     0     0     0   \n",
       "4  3390656894      False     1     0     0     1     0     0     0     0   \n",
       "\n",
       "    ...    t2_104  t2_106  t2_107  t2_108  t2_109  t2_110  t2_111  t2_112  \\\n",
       "0   ...         0       0       0       0       0       0       0       0   \n",
       "1   ...         0       0       0       0       0       0       0       0   \n",
       "2   ...         0       0       0       0       0       0       0       0   \n",
       "3   ...         0       0       0       0       0       0       0       0   \n",
       "4   ...         1       0       0       0       0       0       0       0   \n",
       "\n",
       "   t2_113  t2_114  \n",
       "0       0       0  \n",
       "1       0       0  \n",
       "2       0       0  \n",
       "3       0       0  \n",
       "4       0       0  \n",
       "\n",
       "[5 rows x 226 columns]"
      ]
     },
     "execution_count": 133,
     "metadata": {},
     "output_type": "execute_result"
    }
   ],
   "source": []
  },
  {
   "cell_type": "code",
   "execution_count": 138,
   "metadata": {},
   "outputs": [],
   "source": [
    "processed_df = preprocessing.preprocess(df_toy)"
   ]
  },
  {
   "cell_type": "code",
   "execution_count": 139,
   "metadata": {},
   "outputs": [
    {
     "data": {
      "text/html": [
       "<div>\n",
       "<style>\n",
       "    .dataframe thead tr:only-child th {\n",
       "        text-align: right;\n",
       "    }\n",
       "\n",
       "    .dataframe thead th {\n",
       "        text-align: left;\n",
       "    }\n",
       "\n",
       "    .dataframe tbody tr th {\n",
       "        vertical-align: top;\n",
       "    }\n",
       "</style>\n",
       "<table border=\"1\" class=\"dataframe\">\n",
       "  <thead>\n",
       "    <tr style=\"text-align: right;\">\n",
       "      <th></th>\n",
       "      <th>match_id</th>\n",
       "      <th>team1_win</th>\n",
       "      <th>t1_1</th>\n",
       "      <th>t1_2</th>\n",
       "      <th>t1_3</th>\n",
       "      <th>t1_4</th>\n",
       "      <th>t1_5</th>\n",
       "      <th>t1_6</th>\n",
       "      <th>t1_7</th>\n",
       "      <th>t1_8</th>\n",
       "      <th>...</th>\n",
       "      <th>t2_104</th>\n",
       "      <th>t2_106</th>\n",
       "      <th>t2_107</th>\n",
       "      <th>t2_108</th>\n",
       "      <th>t2_109</th>\n",
       "      <th>t2_110</th>\n",
       "      <th>t2_111</th>\n",
       "      <th>t2_112</th>\n",
       "      <th>t2_113</th>\n",
       "      <th>t2_114</th>\n",
       "    </tr>\n",
       "  </thead>\n",
       "  <tbody>\n",
       "    <tr>\n",
       "      <th>0</th>\n",
       "      <td>3443069468</td>\n",
       "      <td>False</td>\n",
       "      <td>0</td>\n",
       "      <td>0</td>\n",
       "      <td>0</td>\n",
       "      <td>0</td>\n",
       "      <td>1</td>\n",
       "      <td>0</td>\n",
       "      <td>0</td>\n",
       "      <td>0</td>\n",
       "      <td>...</td>\n",
       "      <td>0</td>\n",
       "      <td>0</td>\n",
       "      <td>0</td>\n",
       "      <td>0</td>\n",
       "      <td>0</td>\n",
       "      <td>0</td>\n",
       "      <td>0</td>\n",
       "      <td>0</td>\n",
       "      <td>0</td>\n",
       "      <td>0</td>\n",
       "    </tr>\n",
       "    <tr>\n",
       "      <th>1</th>\n",
       "      <td>3389751992</td>\n",
       "      <td>False</td>\n",
       "      <td>0</td>\n",
       "      <td>0</td>\n",
       "      <td>0</td>\n",
       "      <td>0</td>\n",
       "      <td>0</td>\n",
       "      <td>0</td>\n",
       "      <td>0</td>\n",
       "      <td>0</td>\n",
       "      <td>...</td>\n",
       "      <td>0</td>\n",
       "      <td>0</td>\n",
       "      <td>0</td>\n",
       "      <td>0</td>\n",
       "      <td>0</td>\n",
       "      <td>0</td>\n",
       "      <td>0</td>\n",
       "      <td>0</td>\n",
       "      <td>0</td>\n",
       "      <td>0</td>\n",
       "    </tr>\n",
       "    <tr>\n",
       "      <th>2</th>\n",
       "      <td>3391239235</td>\n",
       "      <td>True</td>\n",
       "      <td>0</td>\n",
       "      <td>0</td>\n",
       "      <td>0</td>\n",
       "      <td>0</td>\n",
       "      <td>0</td>\n",
       "      <td>0</td>\n",
       "      <td>0</td>\n",
       "      <td>0</td>\n",
       "      <td>...</td>\n",
       "      <td>0</td>\n",
       "      <td>0</td>\n",
       "      <td>0</td>\n",
       "      <td>0</td>\n",
       "      <td>0</td>\n",
       "      <td>0</td>\n",
       "      <td>0</td>\n",
       "      <td>0</td>\n",
       "      <td>0</td>\n",
       "      <td>0</td>\n",
       "    </tr>\n",
       "    <tr>\n",
       "      <th>3</th>\n",
       "      <td>3441934391</td>\n",
       "      <td>True</td>\n",
       "      <td>0</td>\n",
       "      <td>0</td>\n",
       "      <td>0</td>\n",
       "      <td>0</td>\n",
       "      <td>0</td>\n",
       "      <td>0</td>\n",
       "      <td>0</td>\n",
       "      <td>0</td>\n",
       "      <td>...</td>\n",
       "      <td>0</td>\n",
       "      <td>0</td>\n",
       "      <td>0</td>\n",
       "      <td>0</td>\n",
       "      <td>0</td>\n",
       "      <td>0</td>\n",
       "      <td>0</td>\n",
       "      <td>0</td>\n",
       "      <td>0</td>\n",
       "      <td>0</td>\n",
       "    </tr>\n",
       "    <tr>\n",
       "      <th>4</th>\n",
       "      <td>3390656894</td>\n",
       "      <td>False</td>\n",
       "      <td>1</td>\n",
       "      <td>0</td>\n",
       "      <td>0</td>\n",
       "      <td>1</td>\n",
       "      <td>0</td>\n",
       "      <td>0</td>\n",
       "      <td>0</td>\n",
       "      <td>0</td>\n",
       "      <td>...</td>\n",
       "      <td>1</td>\n",
       "      <td>0</td>\n",
       "      <td>0</td>\n",
       "      <td>0</td>\n",
       "      <td>0</td>\n",
       "      <td>0</td>\n",
       "      <td>0</td>\n",
       "      <td>0</td>\n",
       "      <td>0</td>\n",
       "      <td>0</td>\n",
       "    </tr>\n",
       "  </tbody>\n",
       "</table>\n",
       "<p>5 rows × 226 columns</p>\n",
       "</div>"
      ],
      "text/plain": [
       "     match_id  team1_win  t1_1  t1_2  t1_3  t1_4  t1_5  t1_6  t1_7  t1_8  \\\n",
       "0  3443069468      False     0     0     0     0     1     0     0     0   \n",
       "1  3389751992      False     0     0     0     0     0     0     0     0   \n",
       "2  3391239235       True     0     0     0     0     0     0     0     0   \n",
       "3  3441934391       True     0     0     0     0     0     0     0     0   \n",
       "4  3390656894      False     1     0     0     1     0     0     0     0   \n",
       "\n",
       "    ...    t2_104  t2_106  t2_107  t2_108  t2_109  t2_110  t2_111  t2_112  \\\n",
       "0   ...         0       0       0       0       0       0       0       0   \n",
       "1   ...         0       0       0       0       0       0       0       0   \n",
       "2   ...         0       0       0       0       0       0       0       0   \n",
       "3   ...         0       0       0       0       0       0       0       0   \n",
       "4   ...         1       0       0       0       0       0       0       0   \n",
       "\n",
       "   t2_113  t2_114  \n",
       "0       0       0  \n",
       "1       0       0  \n",
       "2       0       0  \n",
       "3       0       0  \n",
       "4       0       0  \n",
       "\n",
       "[5 rows x 226 columns]"
      ]
     },
     "execution_count": 139,
     "metadata": {},
     "output_type": "execute_result"
    }
   ],
   "source": [
    "processed_df.head()"
   ]
  }
 ],
 "metadata": {
  "kernelspec": {
   "display_name": "Python 2",
   "language": "python",
   "name": "python2"
  },
  "language_info": {
   "codemirror_mode": {
    "name": "ipython",
    "version": 2
   },
   "file_extension": ".py",
   "mimetype": "text/x-python",
   "name": "python",
   "nbconvert_exporter": "python",
   "pygments_lexer": "ipython2",
   "version": "2.7.13"
  }
 },
 "nbformat": 4,
 "nbformat_minor": 2
}
