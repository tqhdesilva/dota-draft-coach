{
 "cells": [
  {
   "cell_type": "code",
   "execution_count": 115,
   "metadata": {},
   "outputs": [],
   "source": [
    "from __future__ import division, print_function\n",
    "import sqlalchemy\n",
    "import imp\n",
    "import pandas as pd\n",
    "import os\n",
    "import preprocessing\n",
    "import sys\n",
    "import seaborn as sns\n",
    "import matplotlib.pyplot as plt\n",
    "from collections import defaultdict\n",
    "import numpy as np\n",
    "import datetime"
   ]
  },
  {
   "cell_type": "code",
   "execution_count": 108,
   "metadata": {
    "collapsed": true
   },
   "outputs": [],
   "source": [
    "sys.path.append(os.path.join( '..', 'data'))\n",
    "from build_db import connect"
   ]
  },
  {
   "cell_type": "markdown",
   "metadata": {},
   "source": [
    "# Load Data"
   ]
  },
  {
   "cell_type": "code",
   "execution_count": 26,
   "metadata": {},
   "outputs": [],
   "source": [
    "# connect to db\n",
    "db_name = 'dota-draft-test'\n",
    "with open(os.path.expanduser('~/.pgpass')) as f:\n",
    "    for line in f:\n",
    "        host, port, db, user, password = [x.strip() for x in line.split(':')]\n",
    "        if db == db_name:\n",
    "            con, meta = connect(user=user, password=password, db=db, host=host, port=port)\n",
    "            break\n",
    "            \n",
    "dota2_api, meta = connect(user, password, db, host, port)"
   ]
  },
  {
   "cell_type": "code",
   "execution_count": 65,
   "metadata": {
    "collapsed": true
   },
   "outputs": [],
   "source": [
    "query = '''\n",
    "SELECT * FROM matches;\n",
    "'''\n",
    "df = pd.read_sql(query, dota2_api)"
   ]
  },
  {
   "cell_type": "code",
   "execution_count": 28,
   "metadata": {},
   "outputs": [
    {
     "data": {
      "text/html": [
       "<div>\n",
       "<style>\n",
       "    .dataframe thead tr:only-child th {\n",
       "        text-align: right;\n",
       "    }\n",
       "\n",
       "    .dataframe thead th {\n",
       "        text-align: left;\n",
       "    }\n",
       "\n",
       "    .dataframe tbody tr th {\n",
       "        vertical-align: top;\n",
       "    }\n",
       "</style>\n",
       "<table border=\"1\" class=\"dataframe\">\n",
       "  <thead>\n",
       "    <tr style=\"text-align: right;\">\n",
       "      <th></th>\n",
       "      <th>match_id</th>\n",
       "      <th>duration</th>\n",
       "      <th>picks_bans</th>\n",
       "      <th>radiant_win</th>\n",
       "    </tr>\n",
       "  </thead>\n",
       "  <tbody>\n",
       "    <tr>\n",
       "      <th>0</th>\n",
       "      <td>114151994</td>\n",
       "      <td>1134</td>\n",
       "      <td>[{u'is_pick': False, u'hero_id': 80, u'order':...</td>\n",
       "      <td>False</td>\n",
       "    </tr>\n",
       "    <tr>\n",
       "      <th>1</th>\n",
       "      <td>114157989</td>\n",
       "      <td>2441</td>\n",
       "      <td>[{u'is_pick': False, u'hero_id': 90, u'order':...</td>\n",
       "      <td>True</td>\n",
       "    </tr>\n",
       "    <tr>\n",
       "      <th>2</th>\n",
       "      <td>114205310</td>\n",
       "      <td>1659</td>\n",
       "      <td>[{u'is_pick': False, u'hero_id': 55, u'order':...</td>\n",
       "      <td>False</td>\n",
       "    </tr>\n",
       "    <tr>\n",
       "      <th>3</th>\n",
       "      <td>114182218</td>\n",
       "      <td>2658</td>\n",
       "      <td>[{u'is_pick': False, u'hero_id': 97, u'order':...</td>\n",
       "      <td>False</td>\n",
       "    </tr>\n",
       "    <tr>\n",
       "      <th>4</th>\n",
       "      <td>114267642</td>\n",
       "      <td>1699</td>\n",
       "      <td>[{u'is_pick': False, u'hero_id': 97, u'order':...</td>\n",
       "      <td>True</td>\n",
       "    </tr>\n",
       "  </tbody>\n",
       "</table>\n",
       "</div>"
      ],
      "text/plain": [
       "    match_id  duration                                         picks_bans  \\\n",
       "0  114151994      1134  [{u'is_pick': False, u'hero_id': 80, u'order':...   \n",
       "1  114157989      2441  [{u'is_pick': False, u'hero_id': 90, u'order':...   \n",
       "2  114205310      1659  [{u'is_pick': False, u'hero_id': 55, u'order':...   \n",
       "3  114182218      2658  [{u'is_pick': False, u'hero_id': 97, u'order':...   \n",
       "4  114267642      1699  [{u'is_pick': False, u'hero_id': 97, u'order':...   \n",
       "\n",
       "   radiant_win  \n",
       "0        False  \n",
       "1         True  \n",
       "2        False  \n",
       "3        False  \n",
       "4         True  "
      ]
     },
     "execution_count": 28,
     "metadata": {},
     "output_type": "execute_result"
    }
   ],
   "source": [
    "df.head()"
   ]
  },
  {
   "cell_type": "code",
   "execution_count": 29,
   "metadata": {
    "collapsed": true
   },
   "outputs": [],
   "source": [
    "# grab heroes data\n",
    "heroes_df = pd.read_sql('''\n",
    "SELECT * FROM heroes;\n",
    "''', dota2_api)"
   ]
  },
  {
   "cell_type": "code",
   "execution_count": 30,
   "metadata": {
    "scrolled": true
   },
   "outputs": [
    {
     "data": {
      "text/html": [
       "<div>\n",
       "<style>\n",
       "    .dataframe thead tr:only-child th {\n",
       "        text-align: right;\n",
       "    }\n",
       "\n",
       "    .dataframe thead th {\n",
       "        text-align: left;\n",
       "    }\n",
       "\n",
       "    .dataframe tbody tr th {\n",
       "        vertical-align: top;\n",
       "    }\n",
       "</style>\n",
       "<table border=\"1\" class=\"dataframe\">\n",
       "  <thead>\n",
       "    <tr style=\"text-align: right;\">\n",
       "      <th></th>\n",
       "      <th>id</th>\n",
       "      <th>attack_type</th>\n",
       "      <th>legs</th>\n",
       "      <th>localized_name</th>\n",
       "      <th>name</th>\n",
       "      <th>primary_attr</th>\n",
       "      <th>roles</th>\n",
       "    </tr>\n",
       "  </thead>\n",
       "  <tbody>\n",
       "    <tr>\n",
       "      <th>0</th>\n",
       "      <td>44</td>\n",
       "      <td>Melee</td>\n",
       "      <td>2</td>\n",
       "      <td>Phantom Assassin</td>\n",
       "      <td>npc_dota_hero_phantom_assassin</td>\n",
       "      <td>agi</td>\n",
       "      <td>{Carry,Escape}</td>\n",
       "    </tr>\n",
       "    <tr>\n",
       "      <th>1</th>\n",
       "      <td>49</td>\n",
       "      <td>Melee</td>\n",
       "      <td>2</td>\n",
       "      <td>Dragon Knight</td>\n",
       "      <td>npc_dota_hero_dragon_knight</td>\n",
       "      <td>str</td>\n",
       "      <td>{Carry,Pusher,Durable,Disabler,Initiator,Nuker}</td>\n",
       "    </tr>\n",
       "    <tr>\n",
       "      <th>2</th>\n",
       "      <td>54</td>\n",
       "      <td>Melee</td>\n",
       "      <td>2</td>\n",
       "      <td>Lifestealer</td>\n",
       "      <td>npc_dota_hero_life_stealer</td>\n",
       "      <td>str</td>\n",
       "      <td>{Carry,Durable,Jungler,Escape,Disabler}</td>\n",
       "    </tr>\n",
       "    <tr>\n",
       "      <th>3</th>\n",
       "      <td>55</td>\n",
       "      <td>Melee</td>\n",
       "      <td>2</td>\n",
       "      <td>Dark Seer</td>\n",
       "      <td>npc_dota_hero_dark_seer</td>\n",
       "      <td>int</td>\n",
       "      <td>{Initiator,Jungler,Escape,Disabler}</td>\n",
       "    </tr>\n",
       "    <tr>\n",
       "      <th>4</th>\n",
       "      <td>58</td>\n",
       "      <td>Ranged</td>\n",
       "      <td>4</td>\n",
       "      <td>Enchantress</td>\n",
       "      <td>npc_dota_hero_enchantress</td>\n",
       "      <td>int</td>\n",
       "      <td>{Support,Jungler,Pusher,Durable,Disabler}</td>\n",
       "    </tr>\n",
       "  </tbody>\n",
       "</table>\n",
       "</div>"
      ],
      "text/plain": [
       "   id attack_type  legs    localized_name                            name  \\\n",
       "0  44       Melee     2  Phantom Assassin  npc_dota_hero_phantom_assassin   \n",
       "1  49       Melee     2     Dragon Knight     npc_dota_hero_dragon_knight   \n",
       "2  54       Melee     2       Lifestealer      npc_dota_hero_life_stealer   \n",
       "3  55       Melee     2         Dark Seer         npc_dota_hero_dark_seer   \n",
       "4  58      Ranged     4       Enchantress       npc_dota_hero_enchantress   \n",
       "\n",
       "  primary_attr                                            roles  \n",
       "0          agi                                   {Carry,Escape}  \n",
       "1          str  {Carry,Pusher,Durable,Disabler,Initiator,Nuker}  \n",
       "2          str          {Carry,Durable,Jungler,Escape,Disabler}  \n",
       "3          int              {Initiator,Jungler,Escape,Disabler}  \n",
       "4          int        {Support,Jungler,Pusher,Durable,Disabler}  "
      ]
     },
     "execution_count": 30,
     "metadata": {},
     "output_type": "execute_result"
    }
   ],
   "source": [
    "heroes_df.head()"
   ]
  },
  {
   "cell_type": "markdown",
   "metadata": {},
   "source": [
    "# Preprocessing"
   ]
  },
  {
   "cell_type": "code",
   "execution_count": 35,
   "metadata": {
    "scrolled": false
   },
   "outputs": [
    {
     "data": {
      "text/plain": [
       "[{u'hero_id': 80, u'is_pick': False, u'order': 0, u'team': 0},\n",
       " {u'hero_id': 65, u'is_pick': False, u'order': 1, u'team': 1},\n",
       " {u'hero_id': 88, u'is_pick': False, u'order': 2, u'team': 0},\n",
       " {u'hero_id': 97, u'is_pick': False, u'order': 3, u'team': 1},\n",
       " {u'hero_id': 91, u'is_pick': True, u'order': 4, u'team': 0},\n",
       " {u'hero_id': 90, u'is_pick': True, u'order': 5, u'team': 1},\n",
       " {u'hero_id': 55, u'is_pick': True, u'order': 6, u'team': 1},\n",
       " {u'hero_id': 81, u'is_pick': True, u'order': 7, u'team': 0},\n",
       " {u'hero_id': 54, u'is_pick': True, u'order': 8, u'team': 0},\n",
       " {u'hero_id': 72, u'is_pick': True, u'order': 9, u'team': 1},\n",
       " {u'hero_id': 85, u'is_pick': False, u'order': 10, u'team': 0},\n",
       " {u'hero_id': 39, u'is_pick': False, u'order': 11, u'team': 1},\n",
       " {u'hero_id': 33, u'is_pick': False, u'order': 12, u'team': 0},\n",
       " {u'hero_id': 53, u'is_pick': False, u'order': 13, u'team': 1},\n",
       " {u'hero_id': 62, u'is_pick': False, u'order': 14, u'team': 0},\n",
       " {u'hero_id': 58, u'is_pick': False, u'order': 15, u'team': 1},\n",
       " {u'hero_id': 13, u'is_pick': True, u'order': 16, u'team': 0},\n",
       " {u'hero_id': 3, u'is_pick': True, u'order': 17, u'team': 1},\n",
       " {u'hero_id': 66, u'is_pick': True, u'order': 18, u'team': 0},\n",
       " {u'hero_id': 21, u'is_pick': True, u'order': 19, u'team': 1}]"
      ]
     },
     "execution_count": 35,
     "metadata": {},
     "output_type": "execute_result"
    }
   ],
   "source": [
    "picks_bans = df.loc[0, 'picks_bans']\n",
    "picks_bans"
   ]
  },
  {
   "cell_type": "code",
   "execution_count": 45,
   "metadata": {},
   "outputs": [],
   "source": [
    "def dummy_picks(picks_bans_series):\n",
    "    pick_phases = ['rp1', 'dp1', 'dp2', 'rp2', 'rp3', 'dp3', '']\n",
    "    \n",
    "    columns = ['radiant_' + str(hero_id) for hero_id in xrange(1, 115)] + ['dire_' + str(hero_id) for hero_id in xrange(1, 115)]\n",
    "    data = []\n",
    "    for picks_bans in picks_bans_series:\n",
    "        radiant_data = [0] * 114\n",
    "        dire_data = [0] * 114\n",
    "        for pb in picks_bans:\n",
    "            if pb['is_pick']:\n",
    "                if pb['team'] == 0:\n",
    "                    radiant_data[pb['hero_id'] - 1] = 1\n",
    "                else:\n",
    "                    dire_data[pb['hero_id'] - 1] = 1\n",
    "        row_data = radiant_data + dire_data\n",
    "        data.append(row_data)\n",
    "    dummy_df = pd.DataFrame(data=data, columns=columns)\n",
    "    return dummy_df"
   ]
  },
  {
   "cell_type": "code",
   "execution_count": 55,
   "metadata": {},
   "outputs": [
    {
     "name": "stdout",
     "output_type": "stream",
     "text": [
      "1 loop, best of 3: 221 ms per loop\n"
     ]
    }
   ],
   "source": [
    "# for 5000\n",
    "%timeit dummy_picks(df['picks_bans'])"
   ]
  },
  {
   "cell_type": "code",
   "execution_count": 66,
   "metadata": {
    "collapsed": true
   },
   "outputs": [],
   "source": [
    "dummies_df = pd.concat([df, dummy_picks(df['picks_bans'])], axis=1)"
   ]
  },
  {
   "cell_type": "markdown",
   "metadata": {},
   "source": [
    "# EDA\n",
    "Is our data set balanced?"
   ]
  },
  {
   "cell_type": "code",
   "execution_count": 67,
   "metadata": {},
   "outputs": [
    {
     "data": {
      "text/plain": [
       "0.50658178679326715"
      ]
     },
     "execution_count": 67,
     "metadata": {},
     "output_type": "execute_result"
    }
   ],
   "source": [
    "# proportion of radiant wins\n",
    "dummies_df['radiant_win'].sum() / dummies_df.shape[0]"
   ]
  },
  {
   "cell_type": "markdown",
   "metadata": {},
   "source": [
    "Matches over time."
   ]
  },
  {
   "cell_type": "code",
   "execution_count": 104,
   "metadata": {
    "collapsed": true
   },
   "outputs": [],
   "source": [
    "start_times_df = pd.read_sql('SELECT * FROM start_times;', con)"
   ]
  },
  {
   "cell_type": "code",
   "execution_count": 177,
   "metadata": {
    "scrolled": true
   },
   "outputs": [
    {
     "data": {
      "image/png": "[encoded data removed]",
      "text/plain": [
       "<matplotlib.figure.Figure at 0x7f00b2a11350>"
      ]
     },
     "metadata": {},
     "output_type": "display_data"
    }
   ],
   "source": [
    "start_dates = pd.to_datetime(start_times_df['start_time'], unit='s')\n",
    "start_times_df['dates'] = start_dates\n",
    "plt.figure(figsize=(40, 24))\n",
    "start_times_df.groupby([start_times_df[\"dates\"].dt.year, start_times_df[\"dates\"].dt.month]).count()['start_time'].plot(kind=\"bar\")\n",
    "plt.title('Monthly Matches')\n",
    "plt.show()"
   ]
  },
  {
   "cell_type": "markdown",
   "metadata": {},
   "source": [
    "Winrate by heroes"
   ]
  },
  {
   "cell_type": "code",
   "execution_count": 79,
   "metadata": {},
   "outputs": [],
   "source": [
    "radiant_winrates = dict()\n",
    "dire_winrates = dict()\n",
    "hero_winrates = dict()\n",
    "for hero_id in xrange(1, 115):\n",
    "    radiant_matches = dummies_df[(dummies_df['radiant_' + str(hero_id)] == 1)]\n",
    "    dire_matches = dummies_df[(dummies_df['dire_' + str(hero_id)] == 1)]\n",
    "    radiant_wins = radiant_matches['radiant_win'].sum()\n",
    "    dire_wins = ( dire_matches.shape[0] - dire_matches['radiant_win'].sum())\n",
    "    radiant_winrate = radiant_wins / radiant_matches.shape[0] if radiant_matches.shape[0] > 0 else 0\n",
    "    dire_winrate = dire_wins / dire_matches.shape[0] if dire_matches.shape[0] > 0 else 0\n",
    "    radiant_winrates[hero_id] = radiant_winrate\n",
    "    dire_winrates[hero_id] = dire_winrate\n",
    "    hero_winrates[hero_id] = (radiant_wins + dire_wins) / (radiant_matches.shape[0] + dire_matches.shape[0])\\\n",
    "        if radiant_matches.shape[0] + dire_matches.shape[0] > 0 else 0"
   ]
  },
  {
   "cell_type": "code",
   "execution_count": 176,
   "metadata": {},
   "outputs": [
    {
     "data": {
      "image/png": "[encoded data removed]",
      "text/plain": [
       "<matplotlib.figure.Figure at 0x7f00acabb9d0>"
      ]
     },
     "metadata": {},
     "output_type": "display_data"
    }
   ],
   "source": [
    "plt.bar(left=hero_winrates.keys(), height=hero_winrates.values())\n",
    "plt.ylim(ymin=.4, ymax=.6)\n",
    "plt.title('unsorted winrates')\n",
    "plt.show()"
   ]
  },
  {
   "cell_type": "code",
   "execution_count": 85,
   "metadata": {},
   "outputs": [
    {
     "data": {
      "text/html": [
       "<div>\n",
       "<style>\n",
       "    .dataframe thead tr:only-child th {\n",
       "        text-align: right;\n",
       "    }\n",
       "\n",
       "    .dataframe thead th {\n",
       "        text-align: left;\n",
       "    }\n",
       "\n",
       "    .dataframe tbody tr th {\n",
       "        vertical-align: top;\n",
       "    }\n",
       "</style>\n",
       "<table border=\"1\" class=\"dataframe\">\n",
       "  <thead>\n",
       "    <tr style=\"text-align: right;\">\n",
       "      <th></th>\n",
       "      <th>id</th>\n",
       "      <th>attack_type</th>\n",
       "      <th>legs</th>\n",
       "      <th>localized_name</th>\n",
       "      <th>name</th>\n",
       "      <th>primary_attr</th>\n",
       "      <th>roles</th>\n",
       "    </tr>\n",
       "  </thead>\n",
       "  <tbody>\n",
       "  </tbody>\n",
       "</table>\n",
       "</div>"
      ],
      "text/plain": [
       "Empty DataFrame\n",
       "Columns: [id, attack_type, legs, localized_name, name, primary_attr, roles]\n",
       "Index: []"
      ]
     },
     "execution_count": 85,
     "metadata": {},
     "output_type": "execute_result"
    }
   ],
   "source": [
    "# wtf?\n",
    "heroes_df[heroes_df['id'] == 24]"
   ]
  },
  {
   "cell_type": "markdown",
   "metadata": {},
   "source": [
    "Heroes with highest winrates"
   ]
  },
  {
   "cell_type": "code",
   "execution_count": 95,
   "metadata": {},
   "outputs": [],
   "source": [
    "heroes_by_winrate = sorted( hero_winrates.keys(), key=lambda k: hero_winrates[k], reverse=True)"
   ]
  },
  {
   "cell_type": "code",
   "execution_count": 147,
   "metadata": {},
   "outputs": [],
   "source": [
    "top20 = np.array(heroes_by_winrate[:20])"
   ]
  },
  {
   "cell_type": "markdown",
   "metadata": {},
   "source": [
    "Clearly we are looking at data for an older patch."
   ]
  },
  {
   "cell_type": "code",
   "execution_count": 148,
   "metadata": {},
   "outputs": [
    {
     "data": {
      "text/plain": [
       "9                npc_dota_hero_huskar\n",
       "10        npc_dota_hero_bounty_hunter\n",
       "16           npc_dota_hero_lone_druid\n",
       "24           npc_dota_hero_brewmaster\n",
       "38     npc_dota_hero_templar_assassin\n",
       "40               npc_dota_hero_clinkz\n",
       "50              npc_dota_hero_leshrac\n",
       "53                npc_dota_hero_lycan\n",
       "55               npc_dota_hero_visage\n",
       "58          npc_dota_hero_terrorblade\n",
       "59               npc_dota_hero_enigma\n",
       "60          npc_dota_hero_beastmaster\n",
       "62                 npc_dota_hero_luna\n",
       "65               npc_dota_hero_treant\n",
       "70            npc_dota_hero_nevermore\n",
       "97                 npc_dota_hero_chen\n",
       "99                 npc_dota_hero_wisp\n",
       "106      npc_dota_hero_crystal_maiden\n",
       "107         npc_dota_hero_drow_ranger\n",
       "112              npc_dota_hero_mirana\n",
       "Name: name, dtype: object"
      ]
     },
     "execution_count": 148,
     "metadata": {},
     "output_type": "execute_result"
    }
   ],
   "source": [
    "heroes_df[heroes_df['id'].isin(top20)]['name']"
   ]
  },
  {
   "cell_type": "code",
   "execution_count": 175,
   "metadata": {},
   "outputs": [
    {
     "data": {
      "image/png": "[encoded data removed]",
      "text/plain": [
       "<matplotlib.figure.Figure at 0x7f00ad08c090>"
      ]
     },
     "metadata": {},
     "output_type": "display_data"
    }
   ],
   "source": [
    "plt.bar(left=range(1, 115), height=sorted(hero_winrates.values()))\n",
    "plt.title('Sorted winrates')\n",
    "plt.show()"
   ]
  },
  {
   "cell_type": "markdown",
   "metadata": {},
   "source": [
    "Hero pick-rates"
   ]
  },
  {
   "cell_type": "code",
   "execution_count": 155,
   "metadata": {
    "collapsed": true
   },
   "outputs": [],
   "source": [
    "pickrates = dict()\n",
    "picks = dummies_df.iloc[:, 4:].sum(axis=0)\n",
    "for i in xrange(1, 115):\n",
    "    dire_picks = picks['dire_' + str(i)]\n",
    "    radiant_picks = picks['radiant_' + str(i)]\n",
    "    pickrates[i] = (dire_picks + radiant_picks) / dummies_df.shape[0]\n"
   ]
  },
  {
   "cell_type": "code",
   "execution_count": 156,
   "metadata": {},
   "outputs": [
    {
     "data": {
      "text/plain": [
       "{1: 0.066422097539922315,\n",
       " 2: 0.095770392749244718,\n",
       " 3: 0.094561933534743209,\n",
       " 4: 0.025766076823478635,\n",
       " 5: 0.097583081570996974,\n",
       " 6: 0.063854121709106607,\n",
       " 7: 0.18554164868364265,\n",
       " 8: 0.16810530858869227,\n",
       " 9: 0.15962451445835132,\n",
       " 10: 0.069939577039274919,\n",
       " 11: 0.13584376348726801,\n",
       " 12: 0.047885196374622359,\n",
       " 13: 0.15116529995684075,\n",
       " 14: 0.026240828657747087,\n",
       " 15: 0.098036253776435045,\n",
       " 16: 0.1397928355632283,\n",
       " 17: 0.11432887354337505,\n",
       " 18: 0.068709538195943026,\n",
       " 19: 0.049719464825205006,\n",
       " 20: 0.21717738454898575,\n",
       " 21: 0.081614156236512733,\n",
       " 22: 0.060056107034958998,\n",
       " 23: 0.059149762624082863,\n",
       " 24: 0.0,\n",
       " 25: 0.10623651273198101,\n",
       " 26: 0.15699179974104446,\n",
       " 27: 0.089900733707380234,\n",
       " 28: 0.1350453172205438,\n",
       " 29: 0.1253992231333621,\n",
       " 30: 0.15891238670694863,\n",
       " 31: 0.073262839879154079,\n",
       " 32: 0.029607250755287008,\n",
       " 33: 0.061545101424255504,\n",
       " 34: 0.066076823478636165,\n",
       " 35: 0.044454035390591284,\n",
       " 36: 0.031398359948208894,\n",
       " 37: 0.050647388864911526,\n",
       " 38: 0.088088044885627964,\n",
       " 39: 0.15567544238239103,\n",
       " 40: 0.065170479067760037,\n",
       " 41: 0.13170047475183427,\n",
       " 42: 0.066055243849805781,\n",
       " 43: 0.086059559775571864,\n",
       " 44: 0.045727233491583946,\n",
       " 45: 0.029520932239965474,\n",
       " 46: 0.095791972378075102,\n",
       " 47: 0.11329305135951662,\n",
       " 48: 0.076111350884764783,\n",
       " 49: 0.082973672852826932,\n",
       " 50: 0.16068191627104014,\n",
       " 51: 0.16139404402244281,\n",
       " 52: 0.053323262839879156,\n",
       " 53: 0.130168321104877,\n",
       " 54: 0.13765645230902029,\n",
       " 55: 0.17990936555891238,\n",
       " 56: 0.035563228312473029,\n",
       " 57: 0.047583081570996978,\n",
       " 58: 0.061221406991799739,\n",
       " 59: 0.023608113940440226,\n",
       " 60: 0.074471299093655588,\n",
       " 61: 0.027643504531722055,\n",
       " 62: 0.073823910228744072,\n",
       " 63: 0.10796288303841174,\n",
       " 64: 0.097928355632283123,\n",
       " 65: 0.18780750971083299,\n",
       " 66: 0.068493741907639183,\n",
       " 67: 0.0528485110056107,\n",
       " 68: 0.13754855416486836,\n",
       " 69: 0.12099697885196374,\n",
       " 70: 0.052675873974967632,\n",
       " 71: 0.073780750971083303,\n",
       " 72: 0.13487268018990073,\n",
       " 73: 0.076823478636167453,\n",
       " 74: 0.18687958567112645,\n",
       " 75: 0.074147604661199823,\n",
       " 76: 0.082930513595166164,\n",
       " 77: 0.062019853258523952,\n",
       " 78: 0.080362537764350456,\n",
       " 79: 0.13398791540785498,\n",
       " 80: 0.059991368148467845,\n",
       " 81: 0.023910228744065603,\n",
       " 82: 0.019659041864479931,\n",
       " 83: 0.069400086318515325,\n",
       " 84: 0.11838584376348726,\n",
       " 85: 0.071061717738454905,\n",
       " 86: 0.23819594302977989,\n",
       " 87: 0.17116961588260682,\n",
       " 88: 0.12967198964177817,\n",
       " 89: 0.072874406560207161,\n",
       " 90: 0.059495036685369013,\n",
       " 91: 0.11411307725507121,\n",
       " 92: 0.091821320673284426,\n",
       " 93: 0.11139404402244281,\n",
       " 94: 0.038476478204574879,\n",
       " 95: 0.057639188605955981,\n",
       " 96: 0.11402675873974967,\n",
       " 97: 0.077168752697453602,\n",
       " 98: 0.097324126025032376,\n",
       " 99: 0.076435045317220549,\n",
       " 100: 0.082132067328441957,\n",
       " 101: 0.1308588692274493,\n",
       " 102: 0.052438498057833405,\n",
       " 103: 0.065127319810099268,\n",
       " 104: 0.057854984894259817,\n",
       " 105: 0.0024816573154941737,\n",
       " 106: 0.1246007768666379,\n",
       " 107: 0.08241260250323694,\n",
       " 108: 0.010984031074665515,\n",
       " 109: 0.038800172637030644,\n",
       " 110: 0.055697022011221405,\n",
       " 111: 0.058308157099697888,\n",
       " 112: 0.064976262408286578,\n",
       " 113: 0.0020716443677168753,\n",
       " 114: 0.0173931808372896}"
      ]
     },
     "execution_count": 156,
     "metadata": {},
     "output_type": "execute_result"
    }
   ],
   "source": [
    "pickrates"
   ]
  },
  {
   "cell_type": "code",
   "execution_count": 158,
   "metadata": {},
   "outputs": [
    {
     "data": {
      "image/png": "[encoded data removed]",
      "text/plain": [
       "<matplotlib.figure.Figure at 0x7f00b33ca350>"
      ]
     },
     "metadata": {},
     "output_type": "display_data"
    }
   ],
   "source": [
    "plt.bar(left=pickrates.keys(), height=pickrates.values())\n",
    "plt.show()"
   ]
  },
  {
   "cell_type": "code",
   "execution_count": 161,
   "metadata": {},
   "outputs": [],
   "source": [
    "heroes_by_pickrate = sorted(pickrates.keys(), key=lambda k: pickrates[k], reverse=True)\n",
    "top15 = heroes_by_pickrate[:15]"
   ]
  },
  {
   "cell_type": "code",
   "execution_count": 163,
   "metadata": {},
   "outputs": [
    {
     "data": {
      "text/plain": [
       "3           npc_dota_hero_dark_seer\n",
       "11           npc_dota_hero_batrider\n",
       "13            npc_dota_hero_invoker\n",
       "33             npc_dota_hero_dazzle\n",
       "35       npc_dota_hero_witch_doctor\n",
       "39         npc_dota_hero_rattletrap\n",
       "54          npc_dota_hero_disruptor\n",
       "71               npc_dota_hero_puck\n",
       "73        npc_dota_hero_queenofpain\n",
       "90     npc_dota_hero_vengefulspirit\n",
       "93               npc_dota_hero_lion\n",
       "98             npc_dota_hero_rubick\n",
       "110       npc_dota_hero_earthshaker\n",
       "111        npc_dota_hero_juggernaut\n",
       "112            npc_dota_hero_mirana\n",
       "Name: name, dtype: object"
      ]
     },
     "execution_count": 163,
     "metadata": {},
     "output_type": "execute_result"
    }
   ],
   "source": [
    "heroes_df[heroes_df['id'].isin(top15)]['name']"
   ]
  },
  {
   "cell_type": "code",
   "execution_count": 169,
   "metadata": {},
   "outputs": [
    {
     "data": {
      "text/plain": [
       "0.0020716443677168753"
      ]
     },
     "execution_count": 169,
     "metadata": {},
     "output_type": "execute_result"
    }
   ],
   "source": [
    "min(pickrates.values()[:23] + pickrates.values()[24:]) # besides hero_id = 4, what is the lowest pick_rate?"
   ]
  },
  {
   "cell_type": "code",
   "execution_count": 166,
   "metadata": {},
   "outputs": [
    {
     "data": {
      "text/plain": [
       "0.23819594302977989"
      ]
     },
     "execution_count": 166,
     "metadata": {},
     "output_type": "execute_result"
    }
   ],
   "source": [
    "max(pickrates.values())"
   ]
  },
  {
   "cell_type": "code",
   "execution_count": 172,
   "metadata": {},
   "outputs": [
    {
     "data": {
      "image/png": "[encoded data removed]",
      "text/plain": [
       "<matplotlib.figure.Figure at 0x7f00b237d6d0>"
      ]
     },
     "metadata": {},
     "output_type": "display_data"
    }
   ],
   "source": [
    "plt.bar(range(1, 115), sorted(pickrates.values()))\n",
    "plt.title('Sorted pick-rates')\n",
    "plt.show()"
   ]
  },
  {
   "cell_type": "markdown",
   "metadata": {},
   "source": [
    "# Modeling\n",
    "1. Logistic Regression\n",
    "2. kNN\n",
    "3. Decision Trees\n",
    "4. Random Forests\n",
    "5. Boosting"
   ]
  },
  {
   "cell_type": "markdown",
   "metadata": {},
   "source": []
  }
 ],
 "metadata": {
  "kernelspec": {
   "display_name": "Python 2",
   "language": "python",
   "name": "python2"
  },
  "language_info": {
   "codemirror_mode": {
    "name": "ipython",
    "version": 2
   },
   "file_extension": ".py",
   "mimetype": "text/x-python",
   "name": "python",
   "nbconvert_exporter": "python",
   "pygments_lexer": "ipython2",
   "version": "2.7.13"
  }
 },
 "nbformat": 4,
 "nbformat_minor": 2
}
