{
 "cells": [
  {
   "cell_type": "code",
   "execution_count": 2,
   "metadata": {},
   "outputs": [],
   "source": [
    "from __future__ import division, print_function\n",
    "import os\n",
    "import src.preprocessing as preprocessing\n",
    "import sys\n",
    "import numpy as np\n",
    "import pandas as pd\n",
    "from src.preprocessing import preprocess\n",
    "from sklearn.model_selection import train_test_split, GridSearchCV\n",
    "from xgboost import XGBClassifier\n",
    "from sklearn.linear_model import LogisticRegression, RidgeClassifier\n",
    "from sklearn.ensemble import RandomForestClassifier\n",
    "import warnings\n",
    "from sklearn.preprocessing import PolynomialFeatures\n",
    "warnings.filterwarnings(\"ignore\")"
   ]
  },
  {
   "cell_type": "code",
   "execution_count": 2,
   "metadata": {
    "collapsed": true
   },
   "outputs": [],
   "source": [
    "sys.path.append(os.path.join( '..', 'data'))\n",
    "from build_db import connect"
   ]
  },
  {
   "cell_type": "code",
   "execution_count": 3,
   "metadata": {
    "collapsed": true
   },
   "outputs": [],
   "source": [
    "# connect to db\n",
    "db_name = 'dota_db'\n",
    "with open(os.path.expanduser('~/.pgpass')) as f:\n",
    "    for line in f:\n",
    "        host, port, db, user, password = [x.strip() for x in line.split(':')]\n",
    "        if db == db_name:\n",
    "            con, meta = connect(user=user, password=password, db=db, host=host, port=port)\n",
    "            break"
   ]
  },
  {
   "cell_type": "code",
   "execution_count": 4,
   "metadata": {
    "collapsed": true
   },
   "outputs": [],
   "source": [
    "df = pd.read_sql('SELECT * FROM matches WHERE duration >= 600 LIMIT 20000;', con)"
   ]
  },
  {
   "cell_type": "code",
   "execution_count": 5,
   "metadata": {
    "collapsed": true
   },
   "outputs": [],
   "source": [
    "processed_df = preprocess(df)"
   ]
  },
  {
   "cell_type": "code",
   "execution_count": 6,
   "metadata": {
    "collapsed": true
   },
   "outputs": [],
   "source": [
    "y = processed_df['team1_win'].values\n",
    "X = processed_df.drop(['match_id', 'team1_win'], axis=1).values\n",
    "X_train, X_test, y_train, y_test = train_test_split(X, y)"
   ]
  },
  {
   "cell_type": "markdown",
   "metadata": {},
   "source": [
    "# Logistic Regression"
   ]
  },
  {
   "cell_type": "code",
   "execution_count": 7,
   "metadata": {},
   "outputs": [
    {
     "data": {
      "text/plain": [
       "0.58599999999999997"
      ]
     },
     "execution_count": 7,
     "metadata": {},
     "output_type": "execute_result"
    }
   ],
   "source": [
    "lr = LogisticRegression()\n",
    "lr.fit(X_train, y_train)\n",
    "lr.score(X_test, y_test)"
   ]
  },
  {
   "cell_type": "code",
   "execution_count": 8,
   "metadata": {},
   "outputs": [
    {
     "data": {
      "text/plain": [
       "0.58699999999999997"
      ]
     },
     "execution_count": 8,
     "metadata": {},
     "output_type": "execute_result"
    }
   ],
   "source": [
    "params = {'C': [1, .1, .05], 'penalty': ['l1', 'l2'], 'n_jobs': [-1]}\n",
    "gs = GridSearchCV(LogisticRegression(), params)\n",
    "lr_best = gs.fit(X_train, y_train)\n",
    "lr_best.score(X_test, y_test)"
   ]
  },
  {
   "cell_type": "code",
   "execution_count": 74,
   "metadata": {},
   "outputs": [
    {
     "data": {
      "text/plain": [
       "{'C': 0.05, 'n_jobs': -1, 'penalty': 'l2'}"
      ]
     },
     "execution_count": 74,
     "metadata": {},
     "output_type": "execute_result"
    }
   ],
   "source": [
    "lr_best.best_params_"
   ]
  },
  {
   "cell_type": "markdown",
   "metadata": {},
   "source": [
    "# XGBoost"
   ]
  },
  {
   "cell_type": "code",
   "execution_count": 10,
   "metadata": {},
   "outputs": [
    {
     "data": {
      "text/plain": [
       "0.58320000000000005"
      ]
     },
     "execution_count": 10,
     "metadata": {},
     "output_type": "execute_result"
    }
   ],
   "source": [
    "xgb = XGBClassifier(n_estimators=300)\n",
    "xgb.fit(X_train, y_train)\n",
    "xgb.score(X_test, y_test)"
   ]
  },
  {
   "cell_type": "markdown",
   "metadata": {},
   "source": [
    "# Random Forest"
   ]
  },
  {
   "cell_type": "code",
   "execution_count": 9,
   "metadata": {},
   "outputs": [
    {
     "data": {
      "text/plain": [
       "0.5716"
      ]
     },
     "execution_count": 9,
     "metadata": {},
     "output_type": "execute_result"
    }
   ],
   "source": [
    "rf = RandomForestClassifier(n_estimators=500)\n",
    "rf.fit(X_train, y_train)\n",
    "rf.score(X_test, y_test)"
   ]
  },
  {
   "cell_type": "code",
   "execution_count": 42,
   "metadata": {
    "collapsed": true
   },
   "outputs": [],
   "source": [
    "feature_args = np.argsort(rf.feature_importances_)[::-1]\n",
    "# desc\n",
    "features_by_importance = processed_df.drop(['match_id', 'team1_win'], axis=1).columns[feature_args]"
   ]
  },
  {
   "cell_type": "code",
   "execution_count": 75,
   "metadata": {},
   "outputs": [
    {
     "data": {
      "text/plain": [
       "Index([u'team1', u't1_7', u't2_84', u't1_87', u't2_36', u't2_5', u't1_5',\n",
       "       u't2_7', u't2_18', u't1_74', u't1_27', u't2_87', u't2_75', u't2_41',\n",
       "       u't2_4', u't1_84', u't2_29', u't2_8', u't1_31', u't2_99', u't1_18',\n",
       "       u't2_27', u't1_47', u't1_41', u't2_95', u't2_2', u't2_31', u't2_16',\n",
       "       u't1_2', u't2_47'],\n",
       "      dtype='object')"
      ]
     },
     "execution_count": 75,
     "metadata": {},
     "output_type": "execute_result"
    }
   ],
   "source": [
    "features_by_importance[:30]"
   ]
  },
  {
   "cell_type": "code",
   "execution_count": 76,
   "metadata": {
    "collapsed": true
   },
   "outputs": [],
   "source": [
    "hero_ids = [int(x.split('_')[1]) for x in features_by_importance[1:]]"
   ]
  },
  {
   "cell_type": "code",
   "execution_count": 46,
   "metadata": {
    "collapsed": true
   },
   "outputs": [],
   "source": [
    "db_name = 'dota-draft-test'\n",
    "with open(os.path.expanduser('~/.pgpass')) as f:\n",
    "    for line in f:\n",
    "        host, port, db, user, password = [x.strip() for x in line.split(':')]\n",
    "        if db == db_name:\n",
    "            con2, meta = connect(user=user, password=password, db=db, host=host, port=port)\n",
    "            break\n",
    "hero_df = pd.read_sql('SELECT * FROM heroes;', con2)"
   ]
  },
  {
   "cell_type": "code",
   "execution_count": 58,
   "metadata": {
    "collapsed": true
   },
   "outputs": [],
   "source": [
    "hero_df = hero_df.set_index('id')"
   ]
  },
  {
   "cell_type": "code",
   "execution_count": 77,
   "metadata": {},
   "outputs": [
    {
     "name": "stdout",
     "output_type": "stream",
     "text": [
      "npc_dota_hero_earthshaker\n",
      "npc_dota_hero_ogre_magi\n",
      "npc_dota_hero_disruptor\n",
      "npc_dota_hero_necrolyte\n",
      "npc_dota_hero_crystal_maiden\n",
      "npc_dota_hero_crystal_maiden\n",
      "npc_dota_hero_earthshaker\n",
      "npc_dota_hero_sven\n",
      "npc_dota_hero_invoker\n",
      "npc_dota_hero_shadow_shaman\n",
      "npc_dota_hero_disruptor\n",
      "npc_dota_hero_silencer\n",
      "npc_dota_hero_faceless_void\n",
      "npc_dota_hero_bloodseeker\n",
      "npc_dota_hero_ogre_magi\n",
      "npc_dota_hero_tidehunter\n",
      "npc_dota_hero_juggernaut\n",
      "npc_dota_hero_lich\n",
      "npc_dota_hero_bristleback\n",
      "npc_dota_hero_sven\n",
      "npc_dota_hero_shadow_shaman\n",
      "npc_dota_hero_viper\n",
      "npc_dota_hero_faceless_void\n",
      "npc_dota_hero_troll_warlord\n",
      "npc_dota_hero_axe\n",
      "npc_dota_hero_lich\n",
      "npc_dota_hero_sand_king\n",
      "npc_dota_hero_axe\n",
      "npc_dota_hero_viper\n",
      "npc_dota_hero_slardar\n",
      "npc_dota_hero_sniper\n",
      "npc_dota_hero_sniper\n",
      "npc_dota_hero_spirit_breaker\n",
      "npc_dota_hero_silencer\n",
      "npc_dota_hero_night_stalker\n",
      "npc_dota_hero_kunkka\n",
      "npc_dota_hero_tidehunter\n",
      "npc_dota_hero_ancient_apparition\n",
      "npc_dota_hero_omniknight\n",
      "npc_dota_hero_invoker\n",
      "npc_dota_hero_troll_warlord\n",
      "npc_dota_hero_juggernaut\n",
      "npc_dota_hero_kunkka\n",
      "npc_dota_hero_phantom_assassin\n",
      "npc_dota_hero_pudge\n",
      "npc_dota_hero_dazzle\n",
      "npc_dota_hero_warlock\n",
      "npc_dota_hero_mirana\n",
      "npc_dota_hero_dazzle\n",
      "npc_dota_hero_magnataur\n",
      "npc_dota_hero_bristleback\n",
      "npc_dota_hero_bloodseeker\n",
      "npc_dota_hero_slardar\n",
      "npc_dota_hero_chaos_knight\n",
      "npc_dota_hero_legion_commander\n",
      "npc_dota_hero_life_stealer\n",
      "npc_dota_hero_skeleton_king\n",
      "npc_dota_hero_necrolyte\n",
      "npc_dota_hero_antimage\n",
      "npc_dota_hero_legion_commander\n",
      "npc_dota_hero_phantom_assassin\n",
      "npc_dota_hero_sand_king\n",
      "npc_dota_hero_venomancer\n",
      "npc_dota_hero_windrunner\n",
      "npc_dota_hero_lion\n",
      "npc_dota_hero_keeper_of_the_light\n",
      "npc_dota_hero_witch_doctor\n",
      "npc_dota_hero_phantom_lancer\n",
      "npc_dota_hero_obsidian_destroyer\n",
      "npc_dota_hero_slark\n",
      "npc_dota_hero_jakiro\n",
      "npc_dota_hero_spirit_breaker\n",
      "npc_dota_hero_centaur\n",
      "npc_dota_hero_rubick\n",
      "npc_dota_hero_night_stalker\n",
      "npc_dota_hero_ursa\n",
      "npc_dota_hero_nyx_assassin\n",
      "npc_dota_hero_jakiro\n",
      "npc_dota_hero_rubick\n",
      "npc_dota_hero_pudge\n",
      "npc_dota_hero_rattletrap\n",
      "npc_dota_hero_antimage\n",
      "npc_dota_hero_weaver\n",
      "npc_dota_hero_life_stealer\n",
      "npc_dota_hero_drow_ranger\n",
      "npc_dota_hero_windrunner\n",
      "npc_dota_hero_ancient_apparition\n",
      "npc_dota_hero_tinker\n",
      "npc_dota_hero_ursa\n",
      "npc_dota_hero_warlock\n",
      "npc_dota_hero_nevermore\n",
      "npc_dota_hero_skeleton_king\n",
      "npc_dota_hero_witch_doctor\n",
      "npc_dota_hero_furion\n",
      "npc_dota_hero_mirana\n",
      "npc_dota_hero_magnataur\n",
      "npc_dota_hero_lion\n",
      "npc_dota_hero_omniknight\n",
      "npc_dota_hero_venomancer\n",
      "npc_dota_hero_obsidian_destroyer\n",
      "npc_dota_hero_zuus\n",
      "npc_dota_hero_chaos_knight\n",
      "npc_dota_hero_furion\n",
      "npc_dota_hero_huskar\n",
      "npc_dota_hero_keeper_of_the_light\n",
      "npc_dota_hero_nyx_assassin\n",
      "npc_dota_hero_lina\n",
      "npc_dota_hero_queenofpain\n",
      "npc_dota_hero_vengefulspirit\n",
      "npc_dota_hero_monkey_king\n",
      "npc_dota_hero_puck\n",
      "npc_dota_hero_nevermore\n",
      "npc_dota_hero_monkey_king\n",
      "npc_dota_hero_slark\n",
      "npc_dota_hero_weaver\n",
      "npc_dota_hero_puck\n",
      "npc_dota_hero_rattletrap\n",
      "npc_dota_hero_huskar\n",
      "npc_dota_hero_queenofpain\n",
      "npc_dota_hero_vengefulspirit\n",
      "npc_dota_hero_storm_spirit\n",
      "npc_dota_hero_centaur\n",
      "npc_dota_hero_luna\n",
      "npc_dota_hero_shredder\n",
      "npc_dota_hero_drow_ranger\n",
      "npc_dota_hero_spectre\n",
      "npc_dota_hero_dragon_knight\n",
      "npc_dota_hero_lina\n",
      "npc_dota_hero_storm_spirit\n",
      "npc_dota_hero_clinkz\n",
      "npc_dota_hero_medusa\n",
      "npc_dota_hero_spectre\n",
      "npc_dota_hero_phantom_lancer\n",
      "npc_dota_hero_earth_spirit\n",
      "npc_dota_hero_shredder\n",
      "npc_dota_hero_skywrath_mage\n",
      "npc_dota_hero_morphling\n",
      "npc_dota_hero_enigma\n",
      "npc_dota_hero_dark_seer\n",
      "npc_dota_hero_templar_assassin\n",
      "npc_dota_hero_death_prophet\n",
      "npc_dota_hero_enigma\n",
      "npc_dota_hero_luna\n",
      "npc_dota_hero_zuus\n",
      "npc_dota_hero_riki\n",
      "npc_dota_hero_dragon_knight\n",
      "npc_dota_hero_medusa\n",
      "npc_dota_hero_razor\n",
      "npc_dota_hero_winter_wyvern\n",
      "npc_dota_hero_skywrath_mage\n",
      "npc_dota_hero_dark_seer\n",
      "npc_dota_hero_wisp\n",
      "npc_dota_hero_pugna\n",
      "npc_dota_hero_templar_assassin\n",
      "npc_dota_hero_tinker\n",
      "npc_dota_hero_morphling\n",
      "npc_dota_hero_terrorblade\n",
      "npc_dota_hero_bounty_hunter\n",
      "npc_dota_hero_earth_spirit\n",
      "npc_dota_hero_ember_spirit\n",
      "npc_dota_hero_undying\n",
      "npc_dota_hero_wisp\n",
      "npc_dota_hero_undying\n",
      "npc_dota_hero_alchemist\n",
      "npc_dota_hero_alchemist\n",
      "npc_dota_hero_death_prophet\n",
      "npc_dota_hero_abaddon\n",
      "npc_dota_hero_abyssal_underlord\n",
      "npc_dota_hero_bounty_hunter\n",
      "npc_dota_hero_oracle\n",
      "npc_dota_hero_razor\n",
      "npc_dota_hero_pugna\n",
      "npc_dota_hero_phoenix\n",
      "npc_dota_hero_clinkz\n",
      "npc_dota_hero_ember_spirit\n",
      "npc_dota_hero_tiny\n",
      "npc_dota_hero_shadow_demon\n",
      "npc_dota_hero_winter_wyvern\n",
      "npc_dota_hero_tusk\n",
      "npc_dota_hero_riki\n",
      "npc_dota_hero_oracle\n",
      "npc_dota_hero_abaddon\n",
      "npc_dota_hero_batrider\n",
      "npc_dota_hero_meepo\n",
      "npc_dota_hero_terrorblade\n",
      "npc_dota_hero_tiny\n",
      "npc_dota_hero_treant\n",
      "npc_dota_hero_batrider\n",
      "npc_dota_hero_treant\n",
      "npc_dota_hero_doom_bringer\n",
      "npc_dota_hero_bane\n",
      "npc_dota_hero_abyssal_underlord\n",
      "npc_dota_hero_tusk\n",
      "npc_dota_hero_meepo\n",
      "npc_dota_hero_visage\n",
      "npc_dota_hero_doom_bringer\n",
      "npc_dota_hero_phoenix\n",
      "npc_dota_hero_lycan\n",
      "npc_dota_hero_lycan\n",
      "npc_dota_hero_shadow_demon\n",
      "npc_dota_hero_broodmother\n",
      "npc_dota_hero_elder_titan\n",
      "npc_dota_hero_enchantress\n",
      "npc_dota_hero_arc_warden\n",
      "npc_dota_hero_beastmaster\n",
      "npc_dota_hero_bane\n",
      "npc_dota_hero_visage\n",
      "npc_dota_hero_arc_warden\n",
      "npc_dota_hero_elder_titan\n",
      "npc_dota_hero_beastmaster\n",
      "npc_dota_hero_naga_siren\n",
      "npc_dota_hero_gyrocopter\n",
      "npc_dota_hero_broodmother\n",
      "npc_dota_hero_naga_siren\n",
      "npc_dota_hero_leshrac\n",
      "npc_dota_hero_lone_druid\n",
      "npc_dota_hero_lone_druid\n",
      "npc_dota_hero_enchantress\n",
      "npc_dota_hero_chen\n",
      "npc_dota_hero_brewmaster\n",
      "npc_dota_hero_gyrocopter\n",
      "npc_dota_hero_chen\n",
      "npc_dota_hero_brewmaster\n",
      "npc_dota_hero_leshrac\n"
     ]
    }
   ],
   "source": [
    "for hero_id in hero_ids:\n",
    "    print(hero_df.loc[hero_id, 'name'])"
   ]
  },
  {
   "cell_type": "markdown",
   "metadata": {},
   "source": [
    "# Regularized Logistic Regression"
   ]
  },
  {
   "cell_type": "code",
   "execution_count": 11,
   "metadata": {},
   "outputs": [
    {
     "data": {
      "text/plain": [
       "0.58679999999999999"
      ]
     },
     "execution_count": 11,
     "metadata": {},
     "output_type": "execute_result"
    }
   ],
   "source": [
    "rlr = RidgeClassifier(alpha=.1)\n",
    "rlr.fit(X_train, y_train)\n",
    "rlr.score(X_test, y_test)"
   ]
  },
  {
   "cell_type": "markdown",
   "metadata": {},
   "source": [
    "# Regularized Logistic Regression with Polynomial Features"
   ]
  },
  {
   "cell_type": "code",
   "execution_count": null,
   "metadata": {
    "collapsed": true
   },
   "outputs": [],
   "source": [
    "pf = PolynomialFeatures(interaction_only=True)\n",
    "# X_poly = pf.fit_transform(X)\n",
    "# X_poly_train, X_poly_test, y_train, y_test = train_test_split(X_poly, y)"
   ]
  },
  {
   "cell_type": "code",
   "execution_count": 12,
   "metadata": {},
   "outputs": [
    {
     "data": {
      "text/plain": [
       "[{u'hero_id': 58, u'is_pick': False, u'order': 0, u'team': 0},\n",
       " {u'hero_id': 60, u'is_pick': False, u'order': 1, u'team': 1},\n",
       " {u'hero_id': 88, u'is_pick': False, u'order': 2, u'team': 0},\n",
       " {u'hero_id': 7, u'is_pick': False, u'order': 3, u'team': 1},\n",
       " {u'hero_id': 16, u'is_pick': True, u'order': 4, u'team': 0},\n",
       " {u'hero_id': 31, u'is_pick': True, u'order': 5, u'team': 1},\n",
       " {u'hero_id': 13, u'is_pick': True, u'order': 6, u'team': 1},\n",
       " {u'hero_id': 90, u'is_pick': True, u'order': 7, u'team': 0},\n",
       " {u'hero_id': 99, u'is_pick': False, u'order': 8, u'team': 1},\n",
       " {u'hero_id': 36, u'is_pick': False, u'order': 9, u'team': 0},\n",
       " {u'hero_id': 65, u'is_pick': False, u'order': 10, u'team': 1},\n",
       " {u'hero_id': 114, u'is_pick': False, u'order': 11, u'team': 0},\n",
       " {u'hero_id': 18, u'is_pick': True, u'order': 12, u'team': 1},\n",
       " {u'hero_id': 40, u'is_pick': True, u'order': 13, u'team': 0},\n",
       " {u'hero_id': 55, u'is_pick': True, u'order': 14, u'team': 1},\n",
       " {u'hero_id': 49, u'is_pick': True, u'order': 15, u'team': 0},\n",
       " {u'hero_id': 57, u'is_pick': False, u'order': 16, u'team': 1},\n",
       " {u'hero_id': 87, u'is_pick': False, u'order': 17, u'team': 0},\n",
       " {u'hero_id': 71, u'is_pick': True, u'order': 18, u'team': 0},\n",
       " {u'hero_id': 20, u'is_pick': True, u'order': 19, u'team': 1}]"
      ]
     },
     "execution_count": 12,
     "metadata": {},
     "output_type": "execute_result"
    }
   ],
   "source": [
    "df['picks_bans'].iloc[0]"
   ]
  },
  {
   "cell_type": "code",
   "execution_count": 14,
   "metadata": {},
   "outputs": [
    {
     "data": {
      "text/plain": [
       "t1_16    1\n",
       "t1_40    1\n",
       "t1_49    1\n",
       "t1_71    1\n",
       "t1_90    1\n",
       "t2_13    1\n",
       "t2_18    1\n",
       "t2_20    1\n",
       "t2_31    1\n",
       "t2_55    1\n",
       "Name: 0, dtype: object"
      ]
     },
     "execution_count": 14,
     "metadata": {},
     "output_type": "execute_result"
    }
   ],
   "source": [
    "x = processed_df.iloc[0, 3:]\n",
    "x[x == 1]"
   ]
  },
  {
   "cell_type": "code",
   "execution_count": null,
   "metadata": {
    "collapsed": true
   },
   "outputs": [],
   "source": []
  }
 ],
 "metadata": {
  "kernelspec": {
   "display_name": "Python 2",
   "language": "python",
   "name": "python2"
  },
  "language_info": {
   "codemirror_mode": {
    "name": "ipython",
    "version": 2
   },
   "file_extension": ".py",
   "mimetype": "text/x-python",
   "name": "python",
   "nbconvert_exporter": "python",
   "pygments_lexer": "ipython2",
   "version": "2.7.13"
  }
 },
 "nbformat": 4,
 "nbformat_minor": 2
}
